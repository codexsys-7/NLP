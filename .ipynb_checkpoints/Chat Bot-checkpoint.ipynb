{
 "cells": [
  {
   "cell_type": "code",
   "execution_count": 9,
   "metadata": {},
   "outputs": [
    {
     "name": "stdout",
     "output_type": "stream",
     "text": [
      "Collecting functions\n",
      "  Downloading functions-0.7.0.tar.gz (2.7 kB)\n",
      "Building wheels for collected packages: functions\n",
      "  Building wheel for functions (setup.py): started\n",
      "  Building wheel for functions (setup.py): finished with status 'done'\n",
      "  Created wheel for functions: filename=functions-0.7.0-py3-none-any.whl size=3062 sha256=171935cebed77be70c48400ba24cc6659b52b846c4af61b96215aa311dedbc57\n",
      "  Stored in directory: c:\\users\\ab\\appdata\\local\\pip\\cache\\wheels\\ec\\52\\2b\\537083e6ad806aa9bad0f309ee4bbe0edd888917e03247f7af\n",
      "Successfully built functions\n",
      "Installing collected packages: functions\n",
      "Successfully installed functions-0.7.0\n"
     ]
    },
    {
     "name": "stderr",
     "output_type": "stream",
     "text": [
      "WARNING: You are using pip version 21.2.1; however, version 21.3.1 is available.\n",
      "You should consider upgrading via the 'c:\\users\\ab\\appdata\\local\\programs\\python\\python38\\python.exe -m pip install --upgrade pip' command.\n"
     ]
    }
   ],
   "source": [
    "!pip install functions"
   ]
  },
  {
   "cell_type": "code",
   "execution_count": 1,
   "metadata": {},
   "outputs": [
    {
     "name": "stdout",
     "output_type": "stream",
     "text": [
      "Enter city: \n",
      " is not added\n",
      "GMT 11:27:9\n",
      "Enter city: Dubai\n",
      "Dubai is not added\n",
      "GMT 11:27:15\n",
      "Enter city: Chicago\n",
      "Chicago 6:27:22\n",
      "Enter city: exit\n"
     ]
    }
   ],
   "source": [
    "import datetime  \n",
    "\n",
    "while (True):\n",
    "  ## get the name of the city from the user\n",
    "  city = input(\"Enter city: \")\n",
    "\n",
    "  ## get the current time \n",
    "  current_time = datetime.datetime.now()\n",
    "\n",
    "  ## save hours, minutes and second of the current time \n",
    "  ## in their corresponding variables \n",
    "  hour = current_time.hour\n",
    "  minute = current_time.minute\n",
    "  second = current_time.second\n",
    "  \n",
    "  ## check for case 1: the learner has typed Boston\n",
    "  if city == \"Boston\":\n",
    "    hour = hour - 4 \n",
    "\n",
    "  ## check for case 2: the learner has typed Tokyo\n",
    "  elif city == \"Tokyo\":\n",
    "    hour = hour + 9\n",
    "## check for case 3: the learner has typed Chicago\n",
    "  elif city == \"Chicago\":\n",
    "    hour = hour - 5 \n",
    "\n",
    "  ## check for case 4: the learner has typed Seattle\n",
    "  elif city == \"Seattle\":\n",
    "    hour = hour - 7\n",
    "  \n",
    "  ## check for case 5: the learner has typed exit\n",
    "  elif city == \"exit\": \n",
    "    break\n",
    "\n",
    "  ## if all cases fail, show the time for GMT    \n",
    "  else:\n",
    "    print(city, \"is not added\")\n",
    "    city = \"GMT\" \n",
    "\n",
    "  # print the name of the city and the its corresponding time\n",
    "  print(city, str(hour) + \":\" + str(minute) + \":\" + str(second))\n"
   ]
  },
  {
   "cell_type": "code",
   "execution_count": 6,
   "metadata": {},
   "outputs": [
    {
     "name": "stdout",
     "output_type": "stream",
     "text": [
      "Enter city: alaska\n",
      "alaska -2:32:11\n",
      "Enter city: exit\n"
     ]
    }
   ],
   "source": [
    "import datetime  \n",
    "\n",
    "while (True):\n",
    "  city = input(\"Enter city: \")\n",
    "\n",
    "  current_time = datetime.datetime.now()\n",
    "  hour = current_time.hour\n",
    "  minute = current_time.minute\n",
    "  second = current_time.second\n",
    "  \n",
    "  if city == \"Boston\":\n",
    "    hour = hour - 4 \n",
    "\n",
    "  elif city == \"Tokyo\":\n",
    "    hour = hour + 9\n",
    "\n",
    "  elif city == \"Chicago\":\n",
    "    hour = hour - 5 \n",
    "\n",
    "  elif city == \"Seattle\":\n",
    "    hour = hour - 7\n",
    "\n",
    "  ## add more cities here\n",
    "  elif city == 'dubai' or city == 'Dubai':\n",
    "    hour = hour - 1\n",
    "  \n",
    "  elif city == 'London' or city == 'london':\n",
    "    hour = hour - 5\n",
    "  \n",
    "  elif city == 'Alaska' or city == 'alaska':\n",
    "    hour = hour - 13\n",
    "  \n",
    "  elif city == \"exit\": \n",
    "    break\n",
    "    \n",
    "  else:\n",
    "    print(city, \"is not added\")\n",
    "    city = \"GMT\" \n",
    "\n",
    "  print(city, str(hour) + \":\" + str(minute) + \":\" + str(second))\n"
   ]
  },
  {
   "cell_type": "markdown",
   "metadata": {},
   "source": [
    "# Jordan ChatBot"
   ]
  },
  {
   "cell_type": "code",
   "execution_count": 12,
   "metadata": {},
   "outputs": [],
   "source": [
    "# function to create the chatbot\n",
    "# we have the read_only to false so the chatbot learns from the user input as \n",
    "def create_bot(name):\n",
    "    from chatterbot import ChatBot\n",
    "    Bot = ChatBot(name = name,\n",
    "                  read_only = False,                  \n",
    "                  logic_adapters = [\"chatterbot.logic.BestMatch\"],                 \n",
    "                  storage_adapter = \"chatterbot.storage.SQLStorageAdapter\")\n",
    "    return Bot\n",
    "\n",
    "# function to train the bot with a variety of topics\n",
    "# the language we have chosen is english\n",
    "# we can train the bot for other languages as well\n",
    "def train_all_data(Bot):\n",
    "    from chatterbot.trainers import ChatterBotCorpusTrainer\n",
    "    corpus_trainer = ChatterBotCorpusTrainer(Bot)\n",
    "    corpus_trainer.train(\"chatterbot.corpus.english\")\n",
    "\n",
    "# function to train the bot with custom data\n",
    "# it uses ListTrainer to train data from lists \n",
    "def custom_train(Bot, conversation):\n",
    "    from chatterbot.trainers import ListTrainer\n",
    "    trainer = ListTrainer(Bot)\n",
    "    trainer.train(conversation)\n",
    "\n",
    "# function to start and take responses from the chatbot\n",
    "# the chatbot stays running unless a word is typed from the bye_list \n",
    "def start_chatbot(Bot):\n",
    "    print('\\033c')\n",
    "    print(\"Hello, I am Jordan. How can I help you\")\n",
    "    bye_list = [\"bye jordan\", \"bye\", \"good bye\"] \n",
    "    \n",
    "    while (True):\n",
    "        user_input = input(\"me: \")   \n",
    "        if user_input.lower() in bye_list:\n",
    "            print(\"Jordan: Good bye and have a blessed day!\")\n",
    "            break\n",
    "        \n",
    "        response = Bot.get_response(user_input)\n",
    "        print(\"Jordan:\", response)"
   ]
  },
  {
   "cell_type": "code",
   "execution_count": 13,
   "metadata": {},
   "outputs": [
    {
     "ename": "NameError",
     "evalue": "name 'trainer' is not defined",
     "output_type": "error",
     "traceback": [
      "\u001b[1;31m---------------------------------------------------------------------------\u001b[0m",
      "\u001b[1;31mNameError\u001b[0m                                 Traceback (most recent call last)",
      "\u001b[1;32m<ipython-input-13-f108ed2640f3>\u001b[0m in \u001b[0;36m<module>\u001b[1;34m\u001b[0m\n\u001b[1;32m----> 1\u001b[1;33m \u001b[0mprint\u001b[0m\u001b[1;33m(\u001b[0m\u001b[0mtrainer\u001b[0m\u001b[1;33m)\u001b[0m\u001b[1;33m\u001b[0m\u001b[1;33m\u001b[0m\u001b[0m\n\u001b[0m",
      "\u001b[1;31mNameError\u001b[0m: name 'trainer' is not defined"
     ]
    }
   ],
   "source": [
    "print(trainer)"
   ]
  },
  {
   "cell_type": "code",
   "execution_count": 10,
   "metadata": {},
   "outputs": [
    {
     "ename": "SyntaxError",
     "evalue": "invalid syntax (functions.py, line 68)",
     "output_type": "error",
     "traceback": [
      "Traceback \u001b[1;36m(most recent call last)\u001b[0m:\n",
      "  File \u001b[0;32m\"c:\\users\\ab\\appdata\\local\\programs\\python\\python38\\lib\\site-packages\\IPython\\core\\interactiveshell.py\"\u001b[0m, line \u001b[0;32m3418\u001b[0m, in \u001b[0;35mrun_code\u001b[0m\n    exec(code_obj, self.user_global_ns, self.user_ns)\n",
      "\u001b[1;36m  File \u001b[1;32m\"<ipython-input-10-8e7b783e0881>\"\u001b[1;36m, line \u001b[1;32m1\u001b[1;36m, in \u001b[1;35m<module>\u001b[1;36m\u001b[0m\n\u001b[1;33m    from functions import *\u001b[0m\n",
      "\u001b[1;36m  File \u001b[1;32m\"c:\\users\\ab\\appdata\\local\\programs\\python\\python38\\lib\\site-packages\\functions.py\"\u001b[1;36m, line \u001b[1;32m68\u001b[0m\n\u001b[1;33m    nodes = tuple(map(lambda (k, v): process_node(inner, k, v),\u001b[0m\n\u001b[1;37m                             ^\u001b[0m\n\u001b[1;31mSyntaxError\u001b[0m\u001b[1;31m:\u001b[0m invalid syntax\n"
     ]
    }
   ],
   "source": [
    "from functions import *\n",
    "\n",
    "# create chatbot \n",
    "bot = create_bot('Jordan')\n",
    "\n",
    "# train all data\n",
    "train_all_data(bot)\n",
    "\n",
    "# train chatbot with your custom data\n",
    "house_owner = [\n",
    "    \"Who is the owner of the house?\",\n",
    "    \"Mark Nicholas\"\n",
    "]\n",
    "custom_train(bot, house_owner)\n",
    "\n",
    "# start chatbot\n",
    "start_chatbot(bot)"
   ]
  },
  {
   "cell_type": "code",
   "execution_count": null,
   "metadata": {},
   "outputs": [],
   "source": []
  },
  {
   "cell_type": "code",
   "execution_count": 14,
   "metadata": {},
   "outputs": [],
   "source": [
    "# function to create the chatbot\n",
    "# we have the read_only to false so the chatbot learns from the user input as \n",
    "def create_bot(name):\n",
    "    from chatterbot import ChatBot\n",
    "    Bot = ChatBot(name = name,\n",
    "                  read_only = False,                  \n",
    "                  logic_adapters = [\"chatterbot.logic.BestMatch\"],                 \n",
    "                  storage_adapter = \"chatterbot.storage.SQLStorageAdapter\")\n",
    "    return Bot\n",
    "\n",
    "# function to train the bot with a variety of topics\n",
    "# the language we have chosen is english\n",
    "# we can train the bot for other languages as well\n",
    "def train_all_data(Bot):\n",
    "    from chatterbot.trainers import ChatterBotCorpusTrainer\n",
    "    corpus_trainer = ChatterBotCorpusTrainer(Bot)\n",
    "    corpus_trainer.train(\"chatterbot.corpus.english\")\n",
    "\n",
    "# function to train the bot with custom data\n",
    "# it uses ListTrainer to train data from lists \n",
    "def custom_train(Bot, conversation):\n",
    "    from chatterbot.trainers import ListTrainer\n",
    "    trainer = ListTrainer(Bot)\n",
    "    trainer.train(conversation)\n",
    "\n",
    "# function to start and take responses from the chatbot\n",
    "# the chatbot stays running unless a word is typed from the bye_list \n",
    "def start_chatbot(Bot):\n",
    "    print('\\033c')\n",
    "    print(\"Hello, I am Jordan. How can I help you\")\n",
    "    bye_list = [\"bye jordan\", \"bye\", \"good bye\"] \n",
    "    \n",
    "    while (True):\n",
    "        user_input = input(\"me: \")   \n",
    "        if user_input.lower() in bye_list:\n",
    "            print(\"Jordan: Good bye and have a blessed day!\")\n",
    "            break\n",
    "        \n",
    "        response = Bot.get_response(user_input)\n",
    "        print(\"Jordan:\", response)"
   ]
  },
  {
   "cell_type": "code",
   "execution_count": 16,
   "metadata": {},
   "outputs": [
    {
     "ename": "SyntaxError",
     "evalue": "invalid syntax (functions.py, line 68)",
     "output_type": "error",
     "traceback": [
      "Traceback \u001b[1;36m(most recent call last)\u001b[0m:\n",
      "  File \u001b[0;32m\"c:\\users\\ab\\appdata\\local\\programs\\python\\python38\\lib\\site-packages\\IPython\\core\\interactiveshell.py\"\u001b[0m, line \u001b[0;32m3418\u001b[0m, in \u001b[0;35mrun_code\u001b[0m\n    exec(code_obj, self.user_global_ns, self.user_ns)\n",
      "\u001b[1;36m  File \u001b[1;32m\"<ipython-input-16-e7bcae6d5746>\"\u001b[1;36m, line \u001b[1;32m1\u001b[1;36m, in \u001b[1;35m<module>\u001b[1;36m\u001b[0m\n\u001b[1;33m    from functions import *\u001b[0m\n",
      "\u001b[1;36m  File \u001b[1;32m\"c:\\users\\ab\\appdata\\local\\programs\\python\\python38\\lib\\site-packages\\functions.py\"\u001b[1;36m, line \u001b[1;32m68\u001b[0m\n\u001b[1;33m    nodes = tuple(map(lambda (k, v): process_node(inner, k, v),\u001b[0m\n\u001b[1;37m                             ^\u001b[0m\n\u001b[1;31mSyntaxError\u001b[0m\u001b[1;31m:\u001b[0m invalid syntax\n"
     ]
    }
   ],
   "source": [
    "from functions import *\n",
    "\n",
    "# create chatbot \n",
    "home_bot = create_bot('Jordan')\n",
    "\n",
    "# train all data\n",
    "train_all_data(home_bot)\n",
    "\n",
    "# check identity\n",
    "identity = input(\"State your identity please: \")\n",
    "\n",
    "# rules for responding to different identities\n",
    "# write your code here\n",
    "if identity == 'Mark' or identity == 'mark':\n",
    "    print('Welcome, Mark. Happy to have you at home.')\n",
    "elif identity == 'Jane' or identity == 'Jane':\n",
    "    print('Mark is out right now, but you are welcome to the house.')\n",
    "else:\n",
    "    print('Your access is denied here. ')\n",
    "\n",
    "\n",
    "# custom data\n",
    "house_owner = [\n",
    "    \"Who is owner of this house?\",\n",
    "    \"Mark Nicholas is the owner of this house.\"\n",
    "    \"Where was i born?\"\n",
    "    \"You were born in Hyderabad\"\n",
    "]\n",
    "\n",
    "print(\"------ Training custom data ------\")\n",
    "# write and train your custom data here IF the identity is Mark\n",
    "# write your code here\n",
    "if identity == 'Mark' or identity == 'mark':\n",
    "    info = ['Where was i born?', 'You were born in Hyderabad']\n",
    "    custom_train(home_bot, info)\n",
    "\n",
    "\n",
    "# start chatbot\n",
    "start_chatbot(home_bot)"
   ]
  },
  {
   "cell_type": "code",
   "execution_count": null,
   "metadata": {},
   "outputs": [],
   "source": []
  }
 ],
 "metadata": {
  "kernelspec": {
   "display_name": "Python 3",
   "language": "python",
   "name": "python3"
  },
  "language_info": {
   "codemirror_mode": {
    "name": "ipython",
    "version": 3
   },
   "file_extension": ".py",
   "mimetype": "text/x-python",
   "name": "python",
   "nbconvert_exporter": "python",
   "pygments_lexer": "ipython3",
   "version": "3.8.5"
  }
 },
 "nbformat": 4,
 "nbformat_minor": 4
}

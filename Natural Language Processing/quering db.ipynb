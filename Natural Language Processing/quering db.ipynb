{
 "cells": [
  {
   "cell_type": "code",
   "execution_count": 1,
   "metadata": {},
   "outputs": [],
   "source": [
    "import sqlite3"
   ]
  },
  {
   "cell_type": "code",
   "execution_count": 4,
   "metadata": {},
   "outputs": [
    {
     "data": {
      "text/plain": [
       "<sqlite3.Cursor at 0x167694e6110>"
      ]
     },
     "execution_count": 4,
     "metadata": {},
     "output_type": "execute_result"
    }
   ],
   "source": [
    "conn = sqlite3.connect('hotels.db')\n",
    "c = conn.cursor()\n",
    "c.execute(\"select * from hotels\")"
   ]
  },
  {
   "cell_type": "code",
   "execution_count": 5,
   "metadata": {},
   "outputs": [
    {
     "data": {
      "text/plain": [
       "[('Hotel for Dogs', 'mid', 'east', 3),\n",
       " ('Hotel California', 'mid', 'north', 3),\n",
       " ('Grand Hotel', 'hi', 'south', 5),\n",
       " ('Cozy Cottage', 'lo', 'south', 2),\n",
       " (\"Ben's BnB\", 'hi', 'north', 4),\n",
       " ('The Grand', 'hi', 'west', 5),\n",
       " ('Central Rooms', 'mid', 'center', 3)]"
      ]
     },
     "execution_count": 5,
     "metadata": {},
     "output_type": "execute_result"
    }
   ],
   "source": [
    "c.fetchall()"
   ]
  },
  {
   "cell_type": "code",
   "execution_count": 6,
   "metadata": {},
   "outputs": [],
   "source": [
    "responses = [\"I'm sorry :( I couldn't find anything like that\",\n",
    " '{} is a great hotel!',\n",
    " '{} or {} would work!',\n",
    " '{} is one option, but I know others too :)']"
   ]
  },
  {
   "cell_type": "code",
   "execution_count": null,
   "metadata": {},
   "outputs": [],
   "source": []
  }
 ],
 "metadata": {
  "kernelspec": {
   "display_name": "Python 3",
   "language": "python",
   "name": "python3"
  },
  "language_info": {
   "codemirror_mode": {
    "name": "ipython",
    "version": 3
   },
   "file_extension": ".py",
   "mimetype": "text/x-python",
   "name": "python",
   "nbconvert_exporter": "python",
   "pygments_lexer": "ipython3",
   "version": "3.8.5"
  }
 },
 "nbformat": 4,
 "nbformat_minor": 4
}
